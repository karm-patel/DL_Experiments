{
 "cells": [
  {
   "cell_type": "code",
   "execution_count": 1,
   "id": "395124a7",
   "metadata": {},
   "outputs": [
    {
     "name": "stderr",
     "output_type": "stream",
     "text": [
      "2023-04-14 14:49:18.160056: I tensorflow/stream_executor/platform/default/dso_loader.cc:49] Successfully opened dynamic library libcudart.so.10.1\n"
     ]
    }
   ],
   "source": [
    "from tqdm import tqdm\n",
    "import numpy as np\n",
    "import tensorflow as tf\n",
    "import tensorflow\n",
    "import keras\n",
    "import medmnist\n",
    "from medmnist import INFO, Evaluator\n",
    "import os\n",
    "from tensorflow.keras.layers import Dense, Dropout, Flatten, Softmax, BatchNormalization\n",
    "from tensorflow.keras.layers.experimental.preprocessing import Resizing\n",
    "import medmnist.dataset as dt\n",
    "from keras.applications import VGG16, ResNet50\n",
    "from tensorflow.keras.preprocessing.image import ImageDataGenerator\n",
    "from tensorflow.keras.utils import to_categorical\n",
    "import matplotlib.pyplot as plt"
   ]
  },
  {
   "cell_type": "code",
   "execution_count": 2,
   "id": "b82a885b",
   "metadata": {},
   "outputs": [
    {
     "name": "stderr",
     "output_type": "stream",
     "text": [
      "2023-04-14 14:49:25.262319: I tensorflow/compiler/jit/xla_cpu_device.cc:41] Not creating XLA devices, tf_xla_enable_xla_devices not set\n",
      "2023-04-14 14:49:25.262506: I tensorflow/stream_executor/platform/default/dso_loader.cc:49] Successfully opened dynamic library libcuda.so.1\n",
      "2023-04-14 14:49:25.425507: I tensorflow/core/common_runtime/gpu/gpu_device.cc:1720] Found device 0 with properties: \n",
      "pciBusID: 0000:06:00.0 name: NVIDIA Tesla V100-SXM2-32GB computeCapability: 7.0\n",
      "coreClock: 1.53GHz coreCount: 80 deviceMemorySize: 31.75GiB deviceMemoryBandwidth: 836.37GiB/s\n",
      "2023-04-14 14:49:25.441170: I tensorflow/core/common_runtime/gpu/gpu_device.cc:1720] Found device 1 with properties: \n",
      "pciBusID: 0000:07:00.0 name: NVIDIA Tesla V100-SXM2-32GB computeCapability: 7.0\n",
      "coreClock: 1.53GHz coreCount: 80 deviceMemorySize: 31.75GiB deviceMemoryBandwidth: 836.37GiB/s\n",
      "2023-04-14 14:49:25.455819: I tensorflow/core/common_runtime/gpu/gpu_device.cc:1720] Found device 2 with properties: \n",
      "pciBusID: 0000:0a:00.0 name: NVIDIA Tesla V100-SXM2-32GB computeCapability: 7.0\n",
      "coreClock: 1.53GHz coreCount: 80 deviceMemorySize: 31.75GiB deviceMemoryBandwidth: 836.37GiB/s\n",
      "2023-04-14 14:49:25.481764: I tensorflow/core/common_runtime/gpu/gpu_device.cc:1720] Found device 3 with properties: \n",
      "pciBusID: 0000:0b:00.0 name: NVIDIA Tesla V100-SXM2-32GB computeCapability: 7.0\n",
      "coreClock: 1.53GHz coreCount: 80 deviceMemorySize: 31.75GiB deviceMemoryBandwidth: 836.37GiB/s\n",
      "2023-04-14 14:49:25.483100: I tensorflow/core/common_runtime/gpu/gpu_device.cc:1720] Found device 4 with properties: \n",
      "pciBusID: 0000:85:00.0 name: NVIDIA Tesla V100-SXM2-32GB computeCapability: 7.0\n",
      "coreClock: 1.53GHz coreCount: 80 deviceMemorySize: 31.75GiB deviceMemoryBandwidth: 836.37GiB/s\n",
      "2023-04-14 14:49:25.484328: I tensorflow/core/common_runtime/gpu/gpu_device.cc:1720] Found device 5 with properties: \n",
      "pciBusID: 0000:86:00.0 name: NVIDIA Tesla V100-SXM2-32GB computeCapability: 7.0\n",
      "coreClock: 1.53GHz coreCount: 80 deviceMemorySize: 31.75GiB deviceMemoryBandwidth: 836.37GiB/s\n",
      "2023-04-14 14:49:25.494467: I tensorflow/core/common_runtime/gpu/gpu_device.cc:1720] Found device 6 with properties: \n",
      "pciBusID: 0000:89:00.0 name: NVIDIA Tesla V100-SXM2-32GB computeCapability: 7.0\n",
      "coreClock: 1.53GHz coreCount: 80 deviceMemorySize: 31.75GiB deviceMemoryBandwidth: 836.37GiB/s\n",
      "2023-04-14 14:49:25.495721: I tensorflow/core/common_runtime/gpu/gpu_device.cc:1720] Found device 7 with properties: \n",
      "pciBusID: 0000:8a:00.0 name: NVIDIA Tesla V100-SXM2-32GB computeCapability: 7.0\n",
      "coreClock: 1.53GHz coreCount: 80 deviceMemorySize: 31.75GiB deviceMemoryBandwidth: 836.37GiB/s\n",
      "2023-04-14 14:49:25.495792: I tensorflow/stream_executor/platform/default/dso_loader.cc:49] Successfully opened dynamic library libcudart.so.10.1\n",
      "2023-04-14 14:49:25.498499: I tensorflow/stream_executor/platform/default/dso_loader.cc:49] Successfully opened dynamic library libcublas.so.10\n",
      "2023-04-14 14:49:25.498558: I tensorflow/stream_executor/platform/default/dso_loader.cc:49] Successfully opened dynamic library libcublasLt.so.10\n",
      "2023-04-14 14:49:25.498613: I tensorflow/stream_executor/platform/default/dso_loader.cc:49] Successfully opened dynamic library libcufft.so.10\n",
      "2023-04-14 14:49:25.498650: I tensorflow/stream_executor/platform/default/dso_loader.cc:49] Successfully opened dynamic library libcurand.so.10\n",
      "2023-04-14 14:49:25.514646: I tensorflow/stream_executor/platform/default/dso_loader.cc:49] Successfully opened dynamic library libcusolver.so.10\n",
      "2023-04-14 14:49:25.515947: I tensorflow/stream_executor/platform/default/dso_loader.cc:49] Successfully opened dynamic library libcusparse.so.10\n",
      "2023-04-14 14:49:25.528805: I tensorflow/stream_executor/platform/default/dso_loader.cc:49] Successfully opened dynamic library libcudnn.so.7\n",
      "2023-04-14 14:49:25.620526: I tensorflow/core/common_runtime/gpu/gpu_device.cc:1862] Adding visible gpu devices: 0, 1, 2, 3, 4, 5, 6, 7\n"
     ]
    },
    {
     "data": {
      "text/plain": [
       "[PhysicalDevice(name='/physical_device:CPU:0', device_type='CPU'),\n",
       " PhysicalDevice(name='/physical_device:GPU:0', device_type='GPU'),\n",
       " PhysicalDevice(name='/physical_device:GPU:1', device_type='GPU'),\n",
       " PhysicalDevice(name='/physical_device:GPU:2', device_type='GPU'),\n",
       " PhysicalDevice(name='/physical_device:GPU:3', device_type='GPU'),\n",
       " PhysicalDevice(name='/physical_device:GPU:4', device_type='GPU'),\n",
       " PhysicalDevice(name='/physical_device:GPU:5', device_type='GPU'),\n",
       " PhysicalDevice(name='/physical_device:GPU:6', device_type='GPU'),\n",
       " PhysicalDevice(name='/physical_device:GPU:7', device_type='GPU')]"
      ]
     },
     "execution_count": 2,
     "metadata": {},
     "output_type": "execute_result"
    }
   ],
   "source": [
    "gpus = tf.config.list_physical_devices()\n",
    "tf.config.set_visible_devices(gpus[1], 'GPU')\n",
    "gpus"
   ]
  },
  {
   "cell_type": "code",
   "execution_count": 3,
   "id": "ac3de2bd",
   "metadata": {},
   "outputs": [],
   "source": [
    "# os.environ"
   ]
  },
  {
   "cell_type": "code",
   "execution_count": 4,
   "id": "697dcdd0",
   "metadata": {},
   "outputs": [
    {
     "data": {
      "text/plain": [
       "(50000, 1)"
      ]
     },
     "execution_count": 4,
     "metadata": {},
     "output_type": "execute_result"
    }
   ],
   "source": [
    "(X_train, y_train), (X_test, y_test) = tf.keras.datasets.cifar10.load_data()\n",
    "y_train.shape"
   ]
  },
  {
   "cell_type": "code",
   "execution_count": 5,
   "id": "260a1497",
   "metadata": {},
   "outputs": [
    {
     "data": {
      "text/plain": [
       "((50000, 32, 32, 3), (50000, 10), (10000, 10))"
      ]
     },
     "execution_count": 5,
     "metadata": {},
     "output_type": "execute_result"
    }
   ],
   "source": [
    "# preprocess data\n",
    "n_classes = len(np.unique(y_train))\n",
    "y_train = to_categorical(y_train, n_classes)\n",
    "y_test = to_categorical(y_test, n_classes)\n",
    "X_train.shape, y_train.shape, y_test.shape"
   ]
  },
  {
   "cell_type": "code",
   "execution_count": 6,
   "id": "48d2a065",
   "metadata": {},
   "outputs": [],
   "source": [
    "X_train = tf.keras.applications.vgg16.preprocess_input(X_train)\n",
    "X_test = tf.keras.applications.vgg16.preprocess_input(X_test)"
   ]
  },
  {
   "cell_type": "code",
   "execution_count": 7,
   "id": "a9398bd7",
   "metadata": {},
   "outputs": [
    {
     "name": "stderr",
     "output_type": "stream",
     "text": [
      "2023-04-14 14:49:41.399808: I tensorflow/core/platform/cpu_feature_guard.cc:142] This TensorFlow binary is optimized with oneAPI Deep Neural Network Library (oneDNN) to use the following CPU instructions in performance-critical operations:  SSE4.1 SSE4.2 AVX AVX2 FMA\n",
      "To enable them in other operations, rebuild TensorFlow with the appropriate compiler flags.\n",
      "2023-04-14 14:49:41.401760: I tensorflow/compiler/jit/xla_gpu_device.cc:99] Not creating XLA devices, tf_xla_enable_xla_devices not set\n",
      "2023-04-14 14:49:41.406846: I tensorflow/core/common_runtime/gpu/gpu_device.cc:1720] Found device 0 with properties: \n",
      "pciBusID: 0000:06:00.0 name: NVIDIA Tesla V100-SXM2-32GB computeCapability: 7.0\n",
      "coreClock: 1.53GHz coreCount: 80 deviceMemorySize: 31.75GiB deviceMemoryBandwidth: 836.37GiB/s\n",
      "2023-04-14 14:49:41.406907: I tensorflow/stream_executor/platform/default/dso_loader.cc:49] Successfully opened dynamic library libcudart.so.10.1\n",
      "2023-04-14 14:49:41.407220: I tensorflow/stream_executor/platform/default/dso_loader.cc:49] Successfully opened dynamic library libcublas.so.10\n",
      "2023-04-14 14:49:41.407257: I tensorflow/stream_executor/platform/default/dso_loader.cc:49] Successfully opened dynamic library libcublasLt.so.10\n",
      "2023-04-14 14:49:41.407280: I tensorflow/stream_executor/platform/default/dso_loader.cc:49] Successfully opened dynamic library libcufft.so.10\n",
      "2023-04-14 14:49:41.407300: I tensorflow/stream_executor/platform/default/dso_loader.cc:49] Successfully opened dynamic library libcurand.so.10\n",
      "2023-04-14 14:49:41.407330: I tensorflow/stream_executor/platform/default/dso_loader.cc:49] Successfully opened dynamic library libcusolver.so.10\n",
      "2023-04-14 14:49:41.407362: I tensorflow/stream_executor/platform/default/dso_loader.cc:49] Successfully opened dynamic library libcusparse.so.10\n",
      "2023-04-14 14:49:41.407394: I tensorflow/stream_executor/platform/default/dso_loader.cc:49] Successfully opened dynamic library libcudnn.so.7\n",
      "2023-04-14 14:49:41.412004: I tensorflow/core/common_runtime/gpu/gpu_device.cc:1862] Adding visible gpu devices: 0\n",
      "2023-04-14 14:49:41.412056: I tensorflow/stream_executor/platform/default/dso_loader.cc:49] Successfully opened dynamic library libcudart.so.10.1\n",
      "2023-04-14 14:49:42.545129: I tensorflow/core/common_runtime/gpu/gpu_device.cc:1261] Device interconnect StreamExecutor with strength 1 edge matrix:\n",
      "2023-04-14 14:49:42.545183: I tensorflow/core/common_runtime/gpu/gpu_device.cc:1267]      0 \n",
      "2023-04-14 14:49:42.545194: I tensorflow/core/common_runtime/gpu/gpu_device.cc:1280] 0:   N \n",
      "2023-04-14 14:49:42.564813: I tensorflow/core/common_runtime/gpu/gpu_device.cc:1406] Created TensorFlow device (/job:localhost/replica:0/task:0/device:GPU:0 with 30132 MB memory) -> physical GPU (device: 0, name: NVIDIA Tesla V100-SXM2-32GB, pci bus id: 0000:06:00.0, compute capability: 7.0)\n"
     ]
    }
   ],
   "source": [
    "vgg_model = VGG16(weights=\"imagenet\", input_shape=(32, 32, 3), include_top=False)\n",
    "vgg_model.trainable = False # freeze\n"
   ]
  },
  {
   "cell_type": "code",
   "execution_count": 8,
   "id": "7ad564ee",
   "metadata": {},
   "outputs": [
    {
     "name": "stdout",
     "output_type": "stream",
     "text": [
      "Model: \"vgg16\"\n",
      "_________________________________________________________________\n",
      "Layer (type)                 Output Shape              Param #   \n",
      "=================================================================\n",
      "input_1 (InputLayer)         [(None, 32, 32, 3)]       0         \n",
      "_________________________________________________________________\n",
      "block1_conv1 (Conv2D)        (None, 32, 32, 64)        1792      \n",
      "_________________________________________________________________\n",
      "block1_conv2 (Conv2D)        (None, 32, 32, 64)        36928     \n",
      "_________________________________________________________________\n",
      "block1_pool (MaxPooling2D)   (None, 16, 16, 64)        0         \n",
      "_________________________________________________________________\n",
      "block2_conv1 (Conv2D)        (None, 16, 16, 128)       73856     \n",
      "_________________________________________________________________\n",
      "block2_conv2 (Conv2D)        (None, 16, 16, 128)       147584    \n",
      "_________________________________________________________________\n",
      "block2_pool (MaxPooling2D)   (None, 8, 8, 128)         0         \n",
      "_________________________________________________________________\n",
      "block3_conv1 (Conv2D)        (None, 8, 8, 256)         295168    \n",
      "_________________________________________________________________\n",
      "block3_conv2 (Conv2D)        (None, 8, 8, 256)         590080    \n",
      "_________________________________________________________________\n",
      "block3_conv3 (Conv2D)        (None, 8, 8, 256)         590080    \n",
      "_________________________________________________________________\n",
      "block3_pool (MaxPooling2D)   (None, 4, 4, 256)         0         \n",
      "_________________________________________________________________\n",
      "block4_conv1 (Conv2D)        (None, 4, 4, 512)         1180160   \n",
      "_________________________________________________________________\n",
      "block4_conv2 (Conv2D)        (None, 4, 4, 512)         2359808   \n",
      "_________________________________________________________________\n",
      "block4_conv3 (Conv2D)        (None, 4, 4, 512)         2359808   \n",
      "_________________________________________________________________\n",
      "block4_pool (MaxPooling2D)   (None, 2, 2, 512)         0         \n",
      "_________________________________________________________________\n",
      "block5_conv1 (Conv2D)        (None, 2, 2, 512)         2359808   \n",
      "_________________________________________________________________\n",
      "block5_conv2 (Conv2D)        (None, 2, 2, 512)         2359808   \n",
      "_________________________________________________________________\n",
      "block5_conv3 (Conv2D)        (None, 2, 2, 512)         2359808   \n",
      "_________________________________________________________________\n",
      "block5_pool (MaxPooling2D)   (None, 1, 1, 512)         0         \n",
      "=================================================================\n",
      "Total params: 14,714,688\n",
      "Trainable params: 14,714,688\n",
      "Non-trainable params: 0\n",
      "_________________________________________________________________\n"
     ]
    }
   ],
   "source": [
    "vgg_model.summary()"
   ]
  },
  {
   "cell_type": "code",
   "execution_count": 9,
   "id": "728da8d3",
   "metadata": {},
   "outputs": [],
   "source": [
    "vgg_model.trainable = False # freeze\n",
    "# for i in range(1,33):\n",
    "#     vgg_model.layers[-i].trainable = True\n"
   ]
  },
  {
   "cell_type": "code",
   "execution_count": 10,
   "id": "ae5b5c1a",
   "metadata": {},
   "outputs": [],
   "source": [
    "# for i, layer in enumerate(vgg_model.layers):\n",
    "#     print(i, layer.name, layer.trainable)"
   ]
  },
  {
   "cell_type": "code",
   "execution_count": 11,
   "id": "baebc14a",
   "metadata": {},
   "outputs": [
    {
     "name": "stdout",
     "output_type": "stream",
     "text": [
      "Model: \"sequential\"\n",
      "_________________________________________________________________\n",
      "Layer (type)                 Output Shape              Param #   \n",
      "=================================================================\n",
      "resizing (Resizing)          (None, 32, 32, 3)         0         \n",
      "_________________________________________________________________\n",
      "vgg16 (Functional)           (None, 1, 1, 512)         14714688  \n",
      "_________________________________________________________________\n",
      "flatten (Flatten)            (None, 512)               0         \n",
      "_________________________________________________________________\n",
      "dense (Dense)                (None, 512)               262656    \n",
      "_________________________________________________________________\n",
      "dense_1 (Dense)              (None, 256)               131328    \n",
      "_________________________________________________________________\n",
      "dense_2 (Dense)              (None, 10)                2570      \n",
      "=================================================================\n",
      "Total params: 15,111,242\n",
      "Trainable params: 396,554\n",
      "Non-trainable params: 14,714,688\n",
      "_________________________________________________________________\n"
     ]
    }
   ],
   "source": [
    "transfer_model = keras.Sequential()\n",
    "transfer_model.add(Resizing(32, 32))\n",
    "transfer_model.add(vgg_model)\n",
    "transfer_model.add(Flatten())\n",
    "transfer_model.add(Dense(512, activation=\"relu\"))\n",
    "# transfer_model.add(Dropout(0.5))\n",
    "transfer_model.add(Dense(256, activation=\"relu\"))\n",
    "transfer_model.add(Dense(n_classes, activation=\"softmax\"))\n",
    "\n",
    "transfer_model.build((None,None,None, 3))\n",
    "transfer_model.summary()"
   ]
  },
  {
   "cell_type": "code",
   "execution_count": 12,
   "id": "0082e142",
   "metadata": {},
   "outputs": [],
   "source": [
    "transfer_model.compile(\n",
    "    optimizer=keras.optimizers.Adam(),\n",
    "    loss=keras.losses.CategoricalCrossentropy(from_logits=False),\n",
    "    metrics=[\"accuracy\"]\n",
    ")"
   ]
  },
  {
   "cell_type": "code",
   "execution_count": 13,
   "id": "e1b1d2c3",
   "metadata": {},
   "outputs": [
    {
     "name": "stderr",
     "output_type": "stream",
     "text": [
      "2023-04-14 14:50:10.309854: I tensorflow/compiler/mlir/mlir_graph_optimization_pass.cc:116] None of the MLIR optimization passes are enabled (registered 2)\n",
      "2023-04-14 14:50:10.310753: I tensorflow/core/platform/profile_utils/cpu_utils.cc:112] CPU Frequency: 2195040000 Hz\n"
     ]
    },
    {
     "name": "stdout",
     "output_type": "stream",
     "text": [
      "Epoch 1/20\n"
     ]
    },
    {
     "name": "stderr",
     "output_type": "stream",
     "text": [
      "2023-04-14 14:50:11.161008: I tensorflow/stream_executor/platform/default/dso_loader.cc:49] Successfully opened dynamic library libcublas.so.10\n",
      "2023-04-14 14:50:11.442847: I tensorflow/stream_executor/platform/default/dso_loader.cc:49] Successfully opened dynamic library libcudnn.so.7\n"
     ]
    },
    {
     "name": "stdout",
     "output_type": "stream",
     "text": [
      "1563/1563 [==============================] - 14s 7ms/step - loss: 1.9944 - accuracy: 0.5282 - val_loss: 1.0605 - val_accuracy: 0.6311\n",
      "Epoch 2/20\n",
      "1563/1563 [==============================] - 10s 6ms/step - loss: 0.9333 - accuracy: 0.6764 - val_loss: 1.0221 - val_accuracy: 0.6465\n",
      "Epoch 3/20\n",
      "1563/1563 [==============================] - 10s 6ms/step - loss: 0.8219 - accuracy: 0.7139 - val_loss: 0.9918 - val_accuracy: 0.6629\n",
      "Epoch 4/20\n",
      "1563/1563 [==============================] - 10s 6ms/step - loss: 0.7255 - accuracy: 0.7435 - val_loss: 1.0321 - val_accuracy: 0.6653\n",
      "Epoch 5/20\n",
      "1563/1563 [==============================] - 10s 6ms/step - loss: 0.6320 - accuracy: 0.7784 - val_loss: 1.0514 - val_accuracy: 0.6688\n",
      "Epoch 6/20\n",
      "1563/1563 [==============================] - 10s 7ms/step - loss: 0.5337 - accuracy: 0.8124 - val_loss: 1.1736 - val_accuracy: 0.6497\n",
      "Epoch 7/20\n",
      "1563/1563 [==============================] - 10s 7ms/step - loss: 0.4379 - accuracy: 0.8435 - val_loss: 1.2347 - val_accuracy: 0.6570\n",
      "Epoch 8/20\n",
      "1563/1563 [==============================] - 10s 6ms/step - loss: 0.3796 - accuracy: 0.8670 - val_loss: 1.3636 - val_accuracy: 0.6520\n",
      "Epoch 9/20\n",
      "1563/1563 [==============================] - 10s 6ms/step - loss: 0.3227 - accuracy: 0.8857 - val_loss: 1.5256 - val_accuracy: 0.6510\n",
      "Epoch 10/20\n",
      "1563/1563 [==============================] - 10s 6ms/step - loss: 0.2762 - accuracy: 0.9023 - val_loss: 1.5695 - val_accuracy: 0.6499\n",
      "Epoch 11/20\n",
      "1563/1563 [==============================] - 10s 7ms/step - loss: 0.2433 - accuracy: 0.9156 - val_loss: 1.7639 - val_accuracy: 0.6424\n",
      "Epoch 12/20\n",
      "1563/1563 [==============================] - 9s 6ms/step - loss: 0.2222 - accuracy: 0.9219 - val_loss: 1.7992 - val_accuracy: 0.6534\n",
      "Epoch 13/20\n",
      "1563/1563 [==============================] - 10s 6ms/step - loss: 0.1843 - accuracy: 0.9356 - val_loss: 2.0059 - val_accuracy: 0.6476\n",
      "Epoch 14/20\n",
      "1563/1563 [==============================] - 10s 6ms/step - loss: 0.1755 - accuracy: 0.9395 - val_loss: 2.1412 - val_accuracy: 0.6448\n",
      "Epoch 15/20\n",
      "1563/1563 [==============================] - 10s 6ms/step - loss: 0.1601 - accuracy: 0.9481 - val_loss: 2.2311 - val_accuracy: 0.6496\n",
      "Epoch 16/20\n",
      "1563/1563 [==============================] - 10s 6ms/step - loss: 0.1596 - accuracy: 0.9467 - val_loss: 2.3506 - val_accuracy: 0.6541\n",
      "Epoch 17/20\n",
      "1563/1563 [==============================] - 10s 6ms/step - loss: 0.1472 - accuracy: 0.9521 - val_loss: 2.3818 - val_accuracy: 0.6551\n",
      "Epoch 18/20\n",
      "1563/1563 [==============================] - 10s 6ms/step - loss: 0.1292 - accuracy: 0.9573 - val_loss: 2.5319 - val_accuracy: 0.6528\n",
      "Epoch 19/20\n",
      "1563/1563 [==============================] - 10s 6ms/step - loss: 0.1262 - accuracy: 0.9583 - val_loss: 2.6162 - val_accuracy: 0.6492\n",
      "Epoch 20/20\n",
      "1563/1563 [==============================] - 10s 6ms/step - loss: 0.1271 - accuracy: 0.9586 - val_loss: 2.6102 - val_accuracy: 0.6477\n"
     ]
    }
   ],
   "source": [
    "epochs = 20\n",
    "results1 = transfer_model.fit(x=X_train, y=y_train, epochs=epochs, validation_data=(X_test, y_test))"
   ]
  },
  {
   "cell_type": "code",
   "execution_count": 14,
   "id": "5463f1ef",
   "metadata": {},
   "outputs": [
    {
     "data": {
      "text/plain": [
       "<matplotlib.legend.Legend at 0x7fe26984bcd0>"
      ]
     },
     "execution_count": 14,
     "metadata": {},
     "output_type": "execute_result"
    },
    {
     "data": {
      "image/png": "[encoded data removed]",
      "text/plain": [
       "<Figure size 600x300 with 2 Axes>"
      ]
     },
     "metadata": {},
     "output_type": "display_data"
    }
   ],
   "source": [
    "fig, (ax1, ax2) = plt.subplots(1, 2, figsize=(6,3))\n",
    "\n",
    "ax1.plot(results1.history[\"loss\"], label=\"training_loss\")\n",
    "ax1.plot(results1.history[\"val_loss\"], label=\"testing_loss\")\n",
    "\n",
    "ax2.plot(results1.history[\"accuracy\"], label=\"training_accuracy\")\n",
    "ax2.plot(results1.history[\"val_accuracy\"], label=\"testing_accuracy\")\n",
    "\n",
    "ax1.legend()\n",
    "ax2.legend()"
   ]
  },
  {
   "cell_type": "markdown",
   "id": "3f83fa45",
   "metadata": {},
   "source": [
    "## BloodMnist dataset"
   ]
  },
  {
   "cell_type": "code",
   "execution_count": 27,
   "id": "da66f812",
   "metadata": {},
   "outputs": [
    {
     "name": "stdout",
     "output_type": "stream",
     "text": [
      "Using downloaded and verified file: /data/home/karmpatel/.medmnist/bloodmnist.npz\n"
     ]
    }
   ],
   "source": [
    "data_train = dt.BloodMNIST(\"train\", download=True)"
   ]
  },
  {
   "cell_type": "code",
   "execution_count": 28,
   "id": "06ffd9d2",
   "metadata": {},
   "outputs": [
    {
     "name": "stdout",
     "output_type": "stream",
     "text": [
      "Using downloaded and verified file: /data/home/karmpatel/.medmnist/bloodmnist.npz\n"
     ]
    }
   ],
   "source": [
    "data_test = dt.BloodMNIST(\"test\", download=True)"
   ]
  },
  {
   "cell_type": "code",
   "execution_count": 29,
   "id": "716b4eb2",
   "metadata": {},
   "outputs": [
    {
     "data": {
      "text/plain": [
       "((11959, 28, 28, 3), (3421, 28, 28, 3))"
      ]
     },
     "execution_count": 29,
     "metadata": {},
     "output_type": "execute_result"
    }
   ],
   "source": [
    "X_train, X_test = data_train.imgs, data_test.imgs\n",
    "X_train.shape, X_test.shape"
   ]
  },
  {
   "cell_type": "code",
   "execution_count": 30,
   "id": "1657fa7a",
   "metadata": {},
   "outputs": [
    {
     "data": {
      "text/plain": [
       "((11959, 1), (3421, 1))"
      ]
     },
     "execution_count": 30,
     "metadata": {},
     "output_type": "execute_result"
    }
   ],
   "source": [
    "y_train, y_test = data_train.labels, data_test.labels\n",
    "y_train.shape, y_test.shape"
   ]
  },
  {
   "cell_type": "code",
   "execution_count": 31,
   "id": "a1f350d0",
   "metadata": {},
   "outputs": [
    {
     "data": {
      "text/plain": [
       "((11959, 28, 28, 3), (11959, 8), (3421, 8))"
      ]
     },
     "execution_count": 31,
     "metadata": {},
     "output_type": "execute_result"
    }
   ],
   "source": [
    "# preprocess data\n",
    "n_classes = len(np.unique(y_train))\n",
    "y_train = to_categorical(y_train, n_classes)\n",
    "y_test = to_categorical(y_test, n_classes)\n",
    "X_train.shape, y_train.shape, y_test.shape"
   ]
  },
  {
   "cell_type": "code",
   "execution_count": 32,
   "id": "6e33e1e5",
   "metadata": {},
   "outputs": [],
   "source": [
    "X_train = tf.keras.applications.vgg16.preprocess_input(X_train)\n",
    "X_test = tf.keras.applications.vgg16.preprocess_input(X_test)"
   ]
  },
  {
   "cell_type": "code",
   "execution_count": 33,
   "id": "24ac8af2",
   "metadata": {},
   "outputs": [
    {
     "name": "stdout",
     "output_type": "stream",
     "text": [
      "Model: \"sequential_2\"\n",
      "_________________________________________________________________\n",
      "Layer (type)                 Output Shape              Param #   \n",
      "=================================================================\n",
      "resizing_2 (Resizing)        (None, 32, 32, 3)         0         \n",
      "_________________________________________________________________\n",
      "vgg16 (Functional)           (None, 1, 1, 512)         14714688  \n",
      "_________________________________________________________________\n",
      "flatten_2 (Flatten)          (None, 512)               0         \n",
      "_________________________________________________________________\n",
      "dense_6 (Dense)              (None, 512)               262656    \n",
      "_________________________________________________________________\n",
      "dense_7 (Dense)              (None, 256)               131328    \n",
      "_________________________________________________________________\n",
      "dense_8 (Dense)              (None, 8)                 2056      \n",
      "=================================================================\n",
      "Total params: 15,110,728\n",
      "Trainable params: 396,040\n",
      "Non-trainable params: 14,714,688\n",
      "_________________________________________________________________\n"
     ]
    }
   ],
   "source": [
    "vgg_model = VGG16(weights=\"imagenet\", input_shape=(32, 32, 3), include_top=False)\n",
    "vgg_model.trainable = False # freeze\n",
    "\n",
    "transfer_model2 = keras.Sequential()\n",
    "transfer_model2.add(Resizing(32, 32))\n",
    "transfer_model2.add(vgg_model)\n",
    "transfer_model2.add(Flatten())\n",
    "transfer_model2.add(Dense(512, activation=\"relu\"))\n",
    "# transfer_model2.add(Dropout(0.5))\n",
    "transfer_model2.add(Dense(256, activation=\"relu\"))\n",
    "transfer_model2.add(Dense(n_classes, activation=\"softmax\"))\n",
    "\n",
    "transfer_model2.build((None,None,None, 3))\n",
    "transfer_model2.summary()"
   ]
  },
  {
   "cell_type": "code",
   "execution_count": 34,
   "id": "25b9bf1b",
   "metadata": {},
   "outputs": [],
   "source": [
    "transfer_model2.compile(\n",
    "    optimizer=keras.optimizers.Adam(learning_rate=0.002),\n",
    "    loss=keras.losses.CategoricalCrossentropy(from_logits=False),\n",
    "    metrics=[\"accuracy\"]\n",
    ")"
   ]
  },
  {
   "cell_type": "code",
   "execution_count": 35,
   "id": "0dd17b77",
   "metadata": {},
   "outputs": [
    {
     "name": "stdout",
     "output_type": "stream",
     "text": [
      "Epoch 1/30\n",
      "374/374 [==============================] - 4s 8ms/step - loss: 2.9160 - accuracy: 0.6546 - val_loss: 0.5410 - val_accuracy: 0.8077\n",
      "Epoch 2/30\n",
      "374/374 [==============================] - 3s 7ms/step - loss: 0.4742 - accuracy: 0.8286 - val_loss: 0.5014 - val_accuracy: 0.8158\n",
      "Epoch 3/30\n",
      "374/374 [==============================] - 2s 6ms/step - loss: 0.4355 - accuracy: 0.8356 - val_loss: 0.5245 - val_accuracy: 0.8004\n",
      "Epoch 4/30\n",
      "374/374 [==============================] - 3s 7ms/step - loss: 0.3947 - accuracy: 0.8557 - val_loss: 0.4644 - val_accuracy: 0.8328\n",
      "Epoch 5/30\n",
      "374/374 [==============================] - 3s 7ms/step - loss: 0.3736 - accuracy: 0.8605 - val_loss: 0.4515 - val_accuracy: 0.8375\n",
      "Epoch 6/30\n",
      "374/374 [==============================] - 2s 7ms/step - loss: 0.3636 - accuracy: 0.8661 - val_loss: 0.4522 - val_accuracy: 0.8325\n",
      "Epoch 7/30\n",
      "374/374 [==============================] - 2s 7ms/step - loss: 0.3315 - accuracy: 0.8782 - val_loss: 0.4194 - val_accuracy: 0.8471\n",
      "Epoch 8/30\n",
      "374/374 [==============================] - 3s 7ms/step - loss: 0.3248 - accuracy: 0.8791 - val_loss: 0.5065 - val_accuracy: 0.8232\n",
      "Epoch 9/30\n",
      "374/374 [==============================] - 2s 6ms/step - loss: 0.3253 - accuracy: 0.8789 - val_loss: 0.4460 - val_accuracy: 0.8410\n",
      "Epoch 10/30\n",
      "374/374 [==============================] - 3s 7ms/step - loss: 0.3139 - accuracy: 0.8844 - val_loss: 0.4645 - val_accuracy: 0.8460\n",
      "Epoch 11/30\n",
      "374/374 [==============================] - 3s 7ms/step - loss: 0.2875 - accuracy: 0.8926 - val_loss: 0.5460 - val_accuracy: 0.8384\n",
      "Epoch 12/30\n",
      "374/374 [==============================] - 3s 7ms/step - loss: 0.2847 - accuracy: 0.8958 - val_loss: 0.4633 - val_accuracy: 0.8457\n",
      "Epoch 13/30\n",
      "374/374 [==============================] - 3s 7ms/step - loss: 0.2791 - accuracy: 0.8934 - val_loss: 0.5216 - val_accuracy: 0.8281\n",
      "Epoch 14/30\n",
      "374/374 [==============================] - 3s 7ms/step - loss: 0.2665 - accuracy: 0.9054 - val_loss: 0.4766 - val_accuracy: 0.8477\n",
      "Epoch 15/30\n",
      "374/374 [==============================] - 3s 7ms/step - loss: 0.2669 - accuracy: 0.9046 - val_loss: 0.6271 - val_accuracy: 0.8293\n",
      "Epoch 16/30\n",
      "374/374 [==============================] - 2s 7ms/step - loss: 0.2897 - accuracy: 0.8982 - val_loss: 0.5164 - val_accuracy: 0.8404\n",
      "Epoch 17/30\n",
      "374/374 [==============================] - 2s 6ms/step - loss: 0.2392 - accuracy: 0.9115 - val_loss: 0.4962 - val_accuracy: 0.8454\n",
      "Epoch 18/30\n",
      "374/374 [==============================] - 3s 7ms/step - loss: 0.2337 - accuracy: 0.9117 - val_loss: 0.4858 - val_accuracy: 0.8454\n",
      "Epoch 19/30\n",
      "374/374 [==============================] - 2s 6ms/step - loss: 0.2348 - accuracy: 0.9142 - val_loss: 0.5504 - val_accuracy: 0.8495\n",
      "Epoch 20/30\n",
      "374/374 [==============================] - 3s 7ms/step - loss: 0.2246 - accuracy: 0.9200 - val_loss: 0.5423 - val_accuracy: 0.8468\n",
      "Epoch 21/30\n",
      "374/374 [==============================] - 3s 7ms/step - loss: 0.2158 - accuracy: 0.9189 - val_loss: 0.5498 - val_accuracy: 0.8486\n",
      "Epoch 22/30\n",
      "374/374 [==============================] - 2s 6ms/step - loss: 0.2006 - accuracy: 0.9266 - val_loss: 0.5872 - val_accuracy: 0.8305\n",
      "Epoch 23/30\n",
      "374/374 [==============================] - 3s 8ms/step - loss: 0.2046 - accuracy: 0.9230 - val_loss: 0.6556 - val_accuracy: 0.8360\n",
      "Epoch 24/30\n",
      "374/374 [==============================] - 3s 7ms/step - loss: 0.2082 - accuracy: 0.9237 - val_loss: 0.5539 - val_accuracy: 0.8527\n",
      "Epoch 25/30\n",
      "374/374 [==============================] - 3s 7ms/step - loss: 0.1795 - accuracy: 0.9349 - val_loss: 0.5503 - val_accuracy: 0.8562\n",
      "Epoch 26/30\n",
      "374/374 [==============================] - 3s 7ms/step - loss: 0.1926 - accuracy: 0.9280 - val_loss: 0.6296 - val_accuracy: 0.8436\n",
      "Epoch 27/30\n",
      "374/374 [==============================] - 3s 7ms/step - loss: 0.1934 - accuracy: 0.9257 - val_loss: 0.6325 - val_accuracy: 0.8524\n",
      "Epoch 28/30\n",
      "374/374 [==============================] - 3s 7ms/step - loss: 0.1810 - accuracy: 0.9341 - val_loss: 0.7223 - val_accuracy: 0.8363\n",
      "Epoch 29/30\n",
      "374/374 [==============================] - 2s 7ms/step - loss: 0.1740 - accuracy: 0.9372 - val_loss: 0.6681 - val_accuracy: 0.8477\n",
      "Epoch 30/30\n",
      "374/374 [==============================] - 2s 6ms/step - loss: 0.1773 - accuracy: 0.9357 - val_loss: 0.6173 - val_accuracy: 0.8468\n"
     ]
    }
   ],
   "source": [
    "epochs = 30\n",
    "results2 = transfer_model2.fit(x=X_train, y=y_train, epochs=epochs, validation_data=(X_test, y_test))"
   ]
  },
  {
   "cell_type": "code",
   "execution_count": 37,
   "id": "461109fd",
   "metadata": {},
   "outputs": [
    {
     "data": {
      "text/plain": [
       "<matplotlib.legend.Legend at 0x7fe2611a7460>"
      ]
     },
     "execution_count": 37,
     "metadata": {},
     "output_type": "execute_result"
    },
    {
     "data": {
      "image/png": "[encoded data removed]",
      "text/plain": [
       "<Figure size 600x300 with 2 Axes>"
      ]
     },
     "metadata": {},
     "output_type": "display_data"
    }
   ],
   "source": [
    "fig, (ax1, ax2) = plt.subplots(1, 2, figsize=(6,3))\n",
    "\n",
    "ax1.plot(results2.history[\"loss\"], label=\"training_loss\")\n",
    "ax1.plot(results2.history[\"val_loss\"], label=\"testing_loss\")\n",
    "\n",
    "ax2.plot(results2.history[\"accuracy\"], label=\"training_accuracy\")\n",
    "ax2.plot(results2.history[\"val_accuracy\"], label=\"testing_accuracy\")\n",
    "\n",
    "ax1.legend()\n",
    "ax2.legend()"
   ]
  },
  {
   "cell_type": "code",
   "execution_count": 38,
   "id": "f0a5abe7",
   "metadata": {},
   "outputs": [
    {
     "name": "stdout",
     "output_type": "stream",
     "text": [
      "107/107 [==============================] - 1s 6ms/step - loss: 0.6173 - accuracy: 0.8468\n"
     ]
    },
    {
     "data": {
      "text/plain": [
       "[0.6173045635223389, 0.8468284010887146]"
      ]
     },
     "execution_count": 38,
     "metadata": {},
     "output_type": "execute_result"
    }
   ],
   "source": [
    "transfer_model2.evaluate(X_test, y_test)"
   ]
  },
  {
   "cell_type": "code",
   "execution_count": null,
   "id": "e600a593",
   "metadata": {},
   "outputs": [],
   "source": []
  }
 ],
 "metadata": {
  "kernelspec": {
   "display_name": "Python [conda env:tf-gpu]",
   "language": "python",
   "name": "conda-env-tf-gpu-py"
  },
  "language_info": {
   "codemirror_mode": {
    "name": "ipython",
    "version": 3
   },
   "file_extension": ".py",
   "mimetype": "text/x-python",
   "name": "python",
   "nbconvert_exporter": "python",
   "pygments_lexer": "ipython3",
   "version": "3.9.16"
  }
 },
 "nbformat": 4,
 "nbformat_minor": 5
}
